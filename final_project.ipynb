{
  "metadata": {
    "kernelspec": {
      "name": "python",
      "display_name": "Python (Pyodide)",
      "language": "python"
    },
    "language_info": {
      "codemirror_mode": {
        "name": "python",
        "version": 3
      },
      "file_extension": ".py",
      "mimetype": "text/x-python",
      "name": "python",
      "nbconvert_exporter": "python",
      "pygments_lexer": "ipython3",
      "version": "3.8"
    }
  },
  "nbformat_minor": 5,
  "nbformat": 4,
  "cells": [
    {
      "id": "b22a9fba-bb10-4b6a-aeeb-984285179576",
      "cell_type": "markdown",
      "source": "# Final Project: Data Science Tools and Concepts",
      "metadata": {}
    },
    {
      "id": "50acc248-6588-4877-b64f-abfc34a8c7ca",
      "cell_type": "markdown",
      "source": "## Introduction  \nThis notebook provides an overview of essential Data Science tools, languages, and libraries. It also includes examples of arithmetic expressions in Python.\n",
      "metadata": {}
    },
    {
      "id": "e4802755-11e6-4ac0-8d96-bc7c51dbcc76",
      "cell_type": "markdown",
      "source": "## Data Science Languages  \nSome of the commonly used programming languages in Data Science are:  \n- Python  \n- R  \n- SQL  \n- Julia  \n- Scala  \n",
      "metadata": {}
    },
    {
      "id": "9c235f20-03cc-45d6-8a16-9eec42a61d9f",
      "cell_type": "markdown",
      "source": "## Data Science Libraries  \nSome popular libraries used in Data Science include:  \n- Pandas  \n- NumPy  \n- Matplotlib  \n- Scikit-learn  \n- TensorFlow  \n- PyTorch  \n",
      "metadata": {}
    },
    {
      "id": "4082f03a-91f2-4eed-8966-10f8b278216c",
      "cell_type": "markdown",
      "source": "## Data Science Tools  \n\n| Tool Name       | Description                                  |\n|----------------|----------------------------------------------|\n| Jupyter Notebook | Interactive computing environment        |\n| RStudio        | IDE for R programming                      |\n| Apache Spark   | Big data processing framework             |\n| TensorFlow     | Machine learning library                  |\n| Power BI       | Data visualization tool                   |\n",
      "metadata": {}
    },
    {
      "id": "b3f2b97d-0cfa-42bc-9eba-b8fa18c864fe",
      "cell_type": "markdown",
      "source": "## Arithmetic Expression Examples  \nArithmetic expressions allow us to perform basic mathematical operations such as addition, multiplication, and division.\n",
      "metadata": {}
    },
    {
      "id": "f6365db1-70ed-466f-b10e-599a125ae7b1",
      "cell_type": "code",
      "source": "# Multiply and Add numbers\na = 5\nb = 10\nresult = (a * b) + (a + b)\nresult\n",
      "metadata": {
        "trusted": true
      },
      "outputs": [
        {
          "execution_count": 4,
          "output_type": "execute_result",
          "data": {
            "text/plain": "65"
          },
          "metadata": {}
        }
      ],
      "execution_count": 4
    },
    {
      "id": "449d91dc-363e-44a8-a5ed-cc73854f7488",
      "cell_type": "code",
      "source": "# Convert minutes to hours\nminutes = 120\nhours = minutes / 60\nhours\n",
      "metadata": {
        "trusted": true
      },
      "outputs": [
        {
          "execution_count": 5,
          "output_type": "execute_result",
          "data": {
            "text/plain": "2.0"
          },
          "metadata": {}
        }
      ],
      "execution_count": 5
    },
    {
      "id": "4075d194-3176-4de4-80a2-3d2471988c89",
      "cell_type": "markdown",
      "source": "## Objectives  \n- Understand key Data Science tools and languages  \n- Learn common Data Science libraries  \n- Perform arithmetic operations in Python  \n- Convert units using Python programming  \n",
      "metadata": {}
    }
  ]
}